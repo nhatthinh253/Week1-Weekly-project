{
 "cells": [
  {
   "cell_type": "markdown",
   "metadata": {},
   "source": [
    "#  Weekly project"
   ]
  },
  {
   "cell_type": "markdown",
   "metadata": {},
   "source": [
    "## 1. Scraping the first page"
   ]
  },
  {
   "cell_type": "code",
   "execution_count": null,
   "metadata": {},
   "outputs": [],
   "source": [
    "import requests\n",
    "from bs4 import BeautifulSoup\n",
    "import pandas as pd\n",
    "\n",
    "def get_url(url):\n",
    "    r = requests.get(url)\n",
    "    soup = BeautifulSoup(r.text, 'html.parser')\n",
    "    return soup\n",
    "def scrape_tiki(url = 'https://tiki.vn/dien-thoai-may-tinh-bang/c1789?'):\n",
    "    soup = get_url(url)\n",
    "    items = soup.find_all('div',{\"class\": \"product-item\"})\n",
    "    data = []\n",
    "    for item in items:\n",
    "        try: \n",
    "            dic = {\"product_id\":\"\",\"seller_id\":\"\",\"title\":\"\",\"price\":\"\",\"image_url\":\"\"}\n",
    "            dic[\"product_id\"] = item[\"data-id\"]\n",
    "            dic[\"seller_id\"] = item[\"data-seller-product-id\"]\n",
    "            dic[\"title\"] = item[\"data-title\"]\n",
    "            dic[\"price\"] = item[\"data-price\"]\n",
    "            if item.find(\"span\",{\"class\":\"image\"}):\n",
    "                dic[\"image_url\"] = item.find(\"span\",{\"class\":\"image\"}).img[\"src\"]\n",
    "            data.append(dic)\n",
    "        except:\n",
    "            print(\"We got an error\")\n",
    "    \n",
    "    return (data)"
   ]
  },
  {
   "cell_type": "code",
   "execution_count": null,
   "metadata": {},
   "outputs": [],
   "source": [
    "data = scrape_tiki()\n",
    "data"
   ]
  },
  {
   "cell_type": "code",
   "execution_count": null,
   "metadata": {},
   "outputs": [],
   "source": [
    "page1 = pd.DataFrame(data,columns = data[0].keys())"
   ]
  },
  {
   "cell_type": "code",
   "execution_count": null,
   "metadata": {},
   "outputs": [],
   "source": [
    "page1.head()"
   ]
  },
  {
   "cell_type": "markdown",
   "metadata": {},
   "source": [
    "## 2. Scraping all pages"
   ]
  },
  {
   "cell_type": "code",
   "execution_count": null,
   "metadata": {},
   "outputs": [],
   "source": [
    "import requests\n",
    "from bs4 import BeautifulSoup\n",
    "import pandas as pd\n",
    "import time\n",
    "from random import randint\n",
    "\n",
    "def get_url(url):\n",
    "    r = requests.get(url)\n",
    "    soup = BeautifulSoup(r.text, 'html.parser')\n",
    "    return soup\n",
    "def scrape_tiki_all(url = \"https://tiki.vn/dien-thoai-may-tinh-bang/c1789?\"):\n",
    "    url_base = url\n",
    "    data = []\n",
    "    page = 1\n",
    "    items = True\n",
    "    while items != []:\n",
    "        soup = get_url(url)\n",
    "        items = soup.find_all('div',{\"class\": \"product-item\"})\n",
    "        for item in items:\n",
    "            try: \n",
    "                dic = {\"product_id\":\"\",\"seller_id\":\"\",\"title\":\"\",\"price\":\"\",\"image_url\":\"\"}\n",
    "                dic[\"product_id\"] = item[\"data-id\"]\n",
    "                dic[\"seller_id\"] = item[\"data-seller-product-id\"]\n",
    "                dic[\"title\"] = item[\"data-title\"]\n",
    "                dic[\"price\"] = item[\"data-price\"]\n",
    "                if item.find(\"span\",{\"class\":\"image\"}):\n",
    "                    dic[\"image_url\"] = item.find(\"span\",{\"class\":\"image\"}).img[\"src\"]\n",
    "                data.append(dic)\n",
    "            except:\n",
    "                print(\"We got an error\")\n",
    "        print(page, len(data))\n",
    "        page += 1\n",
    "        url = url_base + \"&page=\" +str(page)\n",
    "        time.sleep(randint(1,8))\n",
    "    return data"
   ]
  },
  {
   "cell_type": "code",
   "execution_count": null,
   "metadata": {},
   "outputs": [],
   "source": [
    "phone = scrape_tiki_all()"
   ]
  },
  {
   "cell_type": "code",
   "execution_count": null,
   "metadata": {},
   "outputs": [],
   "source": [
    "phone_product = pd.DataFrame(phone,columns = phone[0].keys())"
   ]
  },
  {
   "cell_type": "code",
   "execution_count": null,
   "metadata": {},
   "outputs": [],
   "source": [
    "phone_product.info()"
   ]
  },
  {
   "cell_type": "code",
   "execution_count": null,
   "metadata": {},
   "outputs": [],
   "source": [
    "phone_product.head(10)"
   ]
  },
  {
   "cell_type": "code",
   "execution_count": null,
   "metadata": {},
   "outputs": [],
   "source": [
    "phone_product.to_pickle(\"./phone_product.pkl\")"
   ]
  },
  {
   "cell_type": "code",
   "execution_count": null,
   "metadata": {},
   "outputs": [],
   "source": [
    "phone_product.to_csv(\"./phone_product.csv\")"
   ]
  },
  {
   "cell_type": "code",
   "execution_count": null,
   "metadata": {},
   "outputs": [],
   "source": [
    "unpickle_phone_product = pd.read_pickle(\"./phone_product.pkl\")"
   ]
  },
  {
   "cell_type": "code",
   "execution_count": null,
   "metadata": {},
   "outputs": [],
   "source": [
    "unpickle_phone_product.head()"
   ]
  },
  {
   "cell_type": "code",
   "execution_count": null,
   "metadata": {},
   "outputs": [],
   "source": []
  }
 ],
 "metadata": {
  "kernelspec": {
   "display_name": "Python 3",
   "language": "python",
   "name": "python3"
  },
  "language_info": {
   "codemirror_mode": {
    "name": "ipython",
    "version": 3
   },
   "file_extension": ".py",
   "mimetype": "text/x-python",
   "name": "python",
   "nbconvert_exporter": "python",
   "pygments_lexer": "ipython3",
   "version": "3.7.8"
  }
 },
 "nbformat": 4,
 "nbformat_minor": 4
}
